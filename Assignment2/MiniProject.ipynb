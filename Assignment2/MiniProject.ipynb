{
 "cells": [
  {
   "cell_type": "code",
   "execution_count": 1,
   "id": "35fefb75",
   "metadata": {},
   "outputs": [],
   "source": [
    "#import necessary libraries\n",
    "import numpy as np"
   ]
  },
  {
   "cell_type": "code",
   "execution_count": 3,
   "id": "1e1817fe",
   "metadata": {},
   "outputs": [],
   "source": [
    "#dataset from summer olympic London, year 2012\n",
    "np_olympic_country = np.array(['GBR','China','RUS','US','KDR','JPN','GER'])\n",
    "np_olympic_country_Gold = np.array([29,38,24,46,13,7,11])\n",
    "np_olympic_country_Silver = np.array([17,28,25,28,8,14,11])\n",
    "np_olympic_country_Bronze = np.array([19,22,32,29,7,17,14])\n"
   ]
  },
  {
   "cell_type": "code",
   "execution_count": 4,
   "id": "db1537c7",
   "metadata": {},
   "outputs": [],
   "source": [
    "#find country with maximum gold"
   ]
  },
  {
   "cell_type": "code",
   "execution_count": 5,
   "id": "4f3824a1",
   "metadata": {},
   "outputs": [],
   "source": [
    "max_gold_index = np_olympic_country_Gold.argmax()"
   ]
  },
  {
   "cell_type": "code",
   "execution_count": 6,
   "id": "0b11c4c0",
   "metadata": {},
   "outputs": [],
   "source": [
    "country_with_max_gold = np_olympic_country[max_gold_index]"
   ]
  },
  {
   "cell_type": "code",
   "execution_count": 7,
   "id": "928820a6",
   "metadata": {},
   "outputs": [
    {
     "name": "stdout",
     "output_type": "stream",
     "text": [
      "US\n"
     ]
    }
   ],
   "source": [
    "#print country with maximum gold\n",
    "print(country_with_max_gold)"
   ]
  },
  {
   "cell_type": "code",
   "execution_count": 8,
   "id": "feb2b524",
   "metadata": {},
   "outputs": [
    {
     "name": "stdout",
     "output_type": "stream",
     "text": [
      "['GBR' 'China' 'RUS' 'US']\n"
     ]
    }
   ],
   "source": [
    "#find countries with more than 20 gold medals\n",
    "print(np_olympic_country[np_olympic_country_Gold>20])"
   ]
  },
  {
   "cell_type": "code",
   "execution_count": 10,
   "id": "4f675b39",
   "metadata": {},
   "outputs": [
    {
     "name": "stdout",
     "output_type": "stream",
     "text": [
      "GBR, gold medal29, Total medals 36\n",
      "China, gold medal38, Total medals 50\n",
      "RUS, gold medal24, Total medals 57\n",
      "US, gold medal46, Total medals 57\n",
      "KDR, gold medal13, Total medals 15\n",
      "JPN, gold medal7, Total medals 31\n",
      "GER, gold medal11, Total medals 25\n"
     ]
    }
   ],
   "source": [
    "#print each country name with number of gold medals\n",
    "#print each country name with total number of medals\n",
    "for i in range(len(np_olympic_country)):\n",
    "    gold_medal = np_olympic_country_Gold[i]\n",
    "    country = np_olympic_country[i]\n",
    "    total_medal = np_olympic_country_Bronze[i]+np_olympic_country_Silver[i]\n",
    "    print('{}, gold medal{}, Total medals {}'.format(country,gold_medal,total_medal))"
   ]
  },
  {
   "cell_type": "code",
   "execution_count": null,
   "id": "7ea1e6c6",
   "metadata": {},
   "outputs": [],
   "source": []
  }
 ],
 "metadata": {
  "kernelspec": {
   "display_name": "Python 3",
   "language": "python",
   "name": "python3"
  },
  "language_info": {
   "codemirror_mode": {
    "name": "ipython",
    "version": 3
   },
   "file_extension": ".py",
   "mimetype": "text/x-python",
   "name": "python",
   "nbconvert_exporter": "python",
   "pygments_lexer": "ipython3",
   "version": "3.8.8"
  }
 },
 "nbformat": 4,
 "nbformat_minor": 5
}
